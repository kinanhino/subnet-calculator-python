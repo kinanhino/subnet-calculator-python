# Python Subnet Calculator

# This calculator can take an IP address as input, validate its correctness,
# determine its class (A, B, or C), and provide CIDR notation either
# given by the user or inferred from the IP class.

# IP Validation:
# 1. Ensure the input IP is in the correct format (xxx.xxx.xxx.xxx)
# 2. Ensure each segment (octet) is between 0 and 255
# 3. Identify the IP class (A, B, C)



# CIDR Notation:
# 1. Ensure the input is in the correct format.
# 2. User can input CIDR notation if known.
# 3. If CIDR is not provided, it is inferred based on the IP class.





#Calculate Class Type:
# 1. Ask the user to input the number
# 2. Validation input
# 3. Calculate Subnet ( A - 255.0.0.0, B - 255.255.0.0, C - 255.255.255.0)
# 4. Get Subner from CIDR





# Inputs:
# 1. IP Address: A valid IPv4 address.
# 2. CIDR Notation (optional): If not provided, the tool infers it from the IP class.
# 3. Partitioning Preference: Whether the user wants to
# partition based on the number of hosts or subnets.
# 4. Number: Depending on the above choice, the number of hosts or subnets.








# Outputs:
# 1. Subnet Mask: Displayed in decimal format.
# 2. CIDR Notation: (/24)
# 3. Number of Hosts: Total possible hosts in the subnet.
# 4. Number of Subnets: Total possible subnets.
# 5. Network and Broadcast Addresses: For the first two and the last two subnets.
# Usage:
# Provide the required inputs and get the relevant subnetting information in return.

